{
 "cells": [
  {
   "cell_type": "code",
   "execution_count": 1,
   "id": "b1c801f9",
   "metadata": {},
   "outputs": [],
   "source": [
    "import os\n",
    "import openai"
   ]
  },
  {
   "cell_type": "code",
   "execution_count": 2,
   "id": "d36c5f16",
   "metadata": {},
   "outputs": [],
   "source": [
    "# os.environ['OPENAI_API_KEY'] = ''"
   ]
  },
  {
   "cell_type": "code",
   "execution_count": 3,
   "id": "c3fd4d29",
   "metadata": {},
   "outputs": [],
   "source": [
    "openai.api_key = os.getenv('OPENAI_API_KEY')"
   ]
  },
  {
   "cell_type": "code",
   "execution_count": 5,
   "id": "bd8136f7",
   "metadata": {},
   "outputs": [],
   "source": [
    "def create_dish_prompt(list_of_ingredients):\n",
    "    prompt = f\"Create a detailed recipe based on only the following ingredients: {', '.join(list_of_ingredients)}.\\n\"\\\n",
    "            +f\"Additionally, assign a title to the dish by starting your response with 'Recipe for DISHNAME'\"\n",
    "    return prompt"
   ]
  },
  {
   "cell_type": "code",
   "execution_count": 6,
   "id": "3f246624",
   "metadata": {},
   "outputs": [],
   "source": [
    "items = ['egg','bread','bacon','banana']"
   ]
  },
  {
   "cell_type": "code",
   "execution_count": 7,
   "id": "82ae9737",
   "metadata": {},
   "outputs": [
    {
     "name": "stdout",
     "output_type": "stream",
     "text": [
      "Create a detailed recipe based on only the following ingredients: egg, bread, bacon, banana.\n",
      "Additionally, assign a title to the dish by starting your response with 'Recipe for DISHNAME'\n"
     ]
    }
   ],
   "source": [
    "print(create_dish_prompt(items))"
   ]
  },
  {
   "cell_type": "code",
   "execution_count": 12,
   "id": "576f9847",
   "metadata": {},
   "outputs": [],
   "source": [
    "response = openai.Completion.create(engine='text-davinci-003',prompt=create_dish_prompt(items),max_tokens=512,temperature=0.9)"
   ]
  },
  {
   "cell_type": "code",
   "execution_count": 13,
   "id": "cac59949",
   "metadata": {},
   "outputs": [
    {
     "name": "stdout",
     "output_type": "stream",
     "text": [
      "\n",
      "\n",
      "Recipe for Bacon and Egg Bananas: \n",
      "Ingredients: \n",
      "- 1 egg \n",
      "- 2 pieces of bread \n",
      "- 2-3 pieces of bacon \n",
      "- 1 banana \n",
      "\n",
      "Instructions:\n",
      "1. Preheat the oven to 350 degrees F.\n",
      "2. Place the bacon on a baking sheet lined with parchment paper. Bake in the preheated oven for 10 minutes until crispy.\n",
      "3. Toast the bread until golden brown.\n",
      "4. Peel the banana and cut it into slices.\n",
      "5. Heat a non-stick skillet over medium heat and add the egg. Cook the egg for 4-5 minutes, flipping once, until it is cooked to desired doneness.\n",
      "6. Assemble the toast with bacon, banana slices, and the cooked egg. Serve warm. Enjoy!\n"
     ]
    }
   ],
   "source": [
    "print(response['choices'][0]['text'])"
   ]
  },
  {
   "cell_type": "code",
   "execution_count": 14,
   "id": "a99dc18d",
   "metadata": {},
   "outputs": [],
   "source": [
    "import re # Try to extract the recipe text from regular expression"
   ]
  },
  {
   "cell_type": "code",
   "execution_count": 32,
   "id": "9a928181",
   "metadata": {},
   "outputs": [],
   "source": [
    "def extract_title(recipe):\n",
    "    return better_prompt(re.findall('^.*Recipe for .*$',recipe,re.MULTILINE)[0].strip().split('Recipe for ')[-1][:-1])"
   ]
  },
  {
   "cell_type": "code",
   "execution_count": 31,
   "id": "2f528b29",
   "metadata": {},
   "outputs": [],
   "source": [
    "def better_prompt(dish_name):\n",
    "    prompt = f\"{dish_name}, professional food photography, 15mm, studio lighting\"\n",
    "    return prompt"
   ]
  },
  {
   "cell_type": "code",
   "execution_count": 33,
   "id": "41436d58",
   "metadata": {},
   "outputs": [
    {
     "data": {
      "text/plain": [
       "'Bacon and Egg Bananas, professional food photography, 15mm, studio lighting'"
      ]
     },
     "execution_count": 33,
     "metadata": {},
     "output_type": "execute_result"
    }
   ],
   "source": [
    "extract_title(response['choices'][0]['text'])"
   ]
  },
  {
   "cell_type": "code",
   "execution_count": 35,
   "id": "154aaf6e",
   "metadata": {},
   "outputs": [],
   "source": [
    "image_response = openai.Image.create(prompt=extract_title(response['choices'][0]['text']),n=1, size='1024x1024')"
   ]
  },
  {
   "cell_type": "code",
   "execution_count": 36,
   "id": "21b9fd9d",
   "metadata": {},
   "outputs": [],
   "source": [
    "import requests # Connect to the internet\n",
    "import shutil # To help save\n",
    "def save_image(url,file_name):\n",
    "    # URL --> pic.png\n",
    "    image_res = requests.get(url,stream=True)\n",
    "    '''\n",
    "    image_res is a request object\n",
    "    thisobject.raw is teh actual image\n",
    "    '''\n",
    "    if image_res.status_code==200: # HTML codes, 200 means image found\n",
    "        with open(file_name,'wb') as f:\n",
    "            shutil.copyfileobj(image_res.raw,f)\n",
    "    else:\n",
    "        print('ERROR LOADING IMAGE')\n",
    "    return image_res.status_code"
   ]
  },
  {
   "cell_type": "code",
   "execution_count": 37,
   "id": "33457e03",
   "metadata": {},
   "outputs": [
    {
     "data": {
      "text/plain": [
       "200"
      ]
     },
     "execution_count": 37,
     "metadata": {},
     "output_type": "execute_result"
    }
   ],
   "source": [
    "save_image(image_response['data'][0]['url'],'food.png')"
   ]
  },
  {
   "cell_type": "code",
   "execution_count": null,
   "id": "a9c9f3dc",
   "metadata": {},
   "outputs": [],
   "source": []
  }
 ],
 "metadata": {
  "kernelspec": {
   "display_name": "Python 3 (ipykernel)",
   "language": "python",
   "name": "python3"
  },
  "language_info": {
   "codemirror_mode": {
    "name": "ipython",
    "version": 3
   },
   "file_extension": ".py",
   "mimetype": "text/x-python",
   "name": "python",
   "nbconvert_exporter": "python",
   "pygments_lexer": "ipython3",
   "version": "3.11.4"
  }
 },
 "nbformat": 4,
 "nbformat_minor": 5
}
