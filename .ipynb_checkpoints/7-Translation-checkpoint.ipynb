{
 "cells": [
  {
   "cell_type": "code",
   "execution_count": 1,
   "id": "4711cc1a",
   "metadata": {},
   "outputs": [],
   "source": [
    "import os\n",
    "import openai"
   ]
  },
  {
   "cell_type": "code",
   "execution_count": 6,
   "id": "5e7fe26b",
   "metadata": {},
   "outputs": [],
   "source": [
    "# os.environ['OPENAI_API_KEY'] = ''"
   ]
  },
  {
   "cell_type": "code",
   "execution_count": 7,
   "id": "b17ff2d3",
   "metadata": {},
   "outputs": [],
   "source": [
    "openai.api_key = os.getenv('OPENAI_API_KEY')"
   ]
  },
  {
   "cell_type": "code",
   "execution_count": 31,
   "id": "98af4559",
   "metadata": {},
   "outputs": [],
   "source": [
    "country_newspapers = {\"Spain\":(\"https://elpais.com\",'.c_t'),\n",
    "                      \"France\":(\"https://www.lemonde.fr\",'.article__title'),\n",
    "                      \"China\":(\"http://www.chinanews.com.cn\")}"
   ]
  },
  {
   "cell_type": "code",
   "execution_count": 10,
   "id": "35390a09",
   "metadata": {},
   "outputs": [],
   "source": [
    "import requests\n",
    "import bs4 # BeautifulSoup"
   ]
  },
  {
   "cell_type": "code",
   "execution_count": 28,
   "id": "ca239d54",
   "metadata": {},
   "outputs": [],
   "source": [
    "url = country_newspapers['France'][0]"
   ]
  },
  {
   "cell_type": "code",
   "execution_count": 29,
   "id": "15f85baf",
   "metadata": {},
   "outputs": [],
   "source": [
    "result = requests.get(url)"
   ]
  },
  {
   "cell_type": "code",
   "execution_count": 25,
   "id": "28ee6ce9",
   "metadata": {},
   "outputs": [],
   "source": [
    "soup = bs4.BeautifulSoup(result.text,'lxml')"
   ]
  },
  {
   "cell_type": "code",
   "execution_count": 32,
   "id": "708d5df4",
   "metadata": {},
   "outputs": [
    {
     "name": "stdout",
     "output_type": "stream",
     "text": [
      "<p class=\"article__title\">Une première gigafactory française de batteries pour l’automobile ouvre dans le Pas-de-Calais</p>\n",
      "<p class=\"article__title\">Dans la bataille des semi-conducteurs, le succès de l’intelligence artificielle rebat les cartes de la concurrence</p>\n",
      "<p class=\"article__title\">« La richesse ne fait pas forcément le bonheur »</p>\n"
     ]
    }
   ],
   "source": [
    "for item in soup.select(country_newspapers['France'][1])[:3]:\n",
    "    print(item)"
   ]
  },
  {
   "cell_type": "code",
   "execution_count": 46,
   "id": "b05a1af9",
   "metadata": {},
   "outputs": [],
   "source": [
    "def create_prompt():\n",
    "    country = input(\"What country would you like a news summary for?\")\n",
    "    \n",
    "    try:\n",
    "        url,tag = country_newspapers[country]\n",
    "    except:\n",
    "        print(\"Sorry, country not supported or invalid\")\n",
    "        return\n",
    "    \n",
    "    results = requests.get(url)\n",
    "    soup = bs4.BeautifulSoup(results.text,'lxml')\n",
    "    country_headlines = ''\n",
    "    for item in soup.select(tag)[:3]:\n",
    "        country_headlines += item.getText()+'\\n'\n",
    "    \n",
    "    prompt = \"Detect the language of the news headlines below, then translate a summary of the headlines to English in a conversational tone. Please label with numbers before each headline translation\\n\"\n",
    "    return prompt + country_headlines"
   ]
  },
  {
   "cell_type": "code",
   "execution_count": 47,
   "id": "addb4f90",
   "metadata": {},
   "outputs": [
    {
     "name": "stdout",
     "output_type": "stream",
     "text": [
      "What country would you like a news summary for?France\n"
     ]
    }
   ],
   "source": [
    "prompt = create_prompt()"
   ]
  },
  {
   "cell_type": "code",
   "execution_count": 48,
   "id": "2d64f00c",
   "metadata": {},
   "outputs": [
    {
     "name": "stdout",
     "output_type": "stream",
     "text": [
      "Detect the language of the news headlines below, then translate a summary of the headlines to English in a conversational tone. Please label with numbers before each headline translation\n",
      "A Paris, la baisse des prix de l’immobilier est enclenchée et devrait s’accélérer\n",
      "Dans la bataille des semi-conducteurs, le succès de l’intelligence artificielle rebat les cartes de la concurrence\n",
      "« La richesse ne fait pas forcément le bonheur »\n",
      "\n"
     ]
    }
   ],
   "source": [
    "print(prompt)"
   ]
  },
  {
   "cell_type": "code",
   "execution_count": 49,
   "id": "34d1d335",
   "metadata": {},
   "outputs": [],
   "source": [
    "response = openai.Completion.create(model='text-davinci-003',prompt=prompt,temperature=0.2,top_p=0.5,max_tokens=300)"
   ]
  },
  {
   "cell_type": "code",
   "execution_count": 50,
   "id": "6d7bf83c",
   "metadata": {},
   "outputs": [
    {
     "name": "stdout",
     "output_type": "stream",
     "text": [
      "\n",
      "1. Language: French\n",
      "Translation: In Paris, the drop in real estate prices has been initiated and is expected to accelerate. \n",
      "2. Language: French\n",
      "Translation: In the battle of semiconductors, the success of artificial intelligence is reshuffling the cards of competition.\n",
      "3. Language: French\n",
      "Translation: \"Wealth does not necessarily bring happiness.\"\n"
     ]
    }
   ],
   "source": [
    "print(response['choices'][0]['text'])"
   ]
  },
  {
   "cell_type": "code",
   "execution_count": null,
   "id": "1c4b35c0",
   "metadata": {},
   "outputs": [],
   "source": []
  }
 ],
 "metadata": {
  "kernelspec": {
   "display_name": "Python 3 (ipykernel)",
   "language": "python",
   "name": "python3"
  },
  "language_info": {
   "codemirror_mode": {
    "name": "ipython",
    "version": 3
   },
   "file_extension": ".py",
   "mimetype": "text/x-python",
   "name": "python",
   "nbconvert_exporter": "python",
   "pygments_lexer": "ipython3",
   "version": "3.11.4"
  }
 },
 "nbformat": 4,
 "nbformat_minor": 5
}
