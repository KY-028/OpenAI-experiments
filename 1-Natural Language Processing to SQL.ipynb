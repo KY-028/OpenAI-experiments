{
 "cells": [
  {
   "cell_type": "code",
   "execution_count": 1,
   "id": "7e1d5fc0",
   "metadata": {},
   "outputs": [],
   "source": [
    "import os\n",
    "import openai"
   ]
  },
  {
   "cell_type": "code",
   "execution_count": 2,
   "id": "34c34311",
   "metadata": {},
   "outputs": [],
   "source": [
    "# os.environ['OPENAI_API_KEY'] = ''"
   ]
  },
  {
   "cell_type": "code",
   "execution_count": 3,
   "id": "64f8b98e",
   "metadata": {},
   "outputs": [],
   "source": [
    "openai.api_key = os.getenv('OPENAI_API_KEY')"
   ]
  },
  {
   "cell_type": "code",
   "execution_count": 4,
   "id": "3f10e4a0",
   "metadata": {},
   "outputs": [],
   "source": [
    "import pandas as pd"
   ]
  },
  {
   "cell_type": "code",
   "execution_count": 7,
   "id": "7359e490",
   "metadata": {},
   "outputs": [],
   "source": [
    "df = pd.read_csv(\"/Users/keviny/Documents/Udemy_OpenAI_Course/01-NLP-to-SQL/sales_data_sample.csv\")"
   ]
  },
  {
   "cell_type": "code",
   "execution_count": 8,
   "id": "b8beb685",
   "metadata": {},
   "outputs": [],
   "source": [
    "import sqlalchemy"
   ]
  },
  {
   "cell_type": "code",
   "execution_count": 9,
   "id": "b756f189",
   "metadata": {},
   "outputs": [],
   "source": [
    "from sqlalchemy import create_engine\n",
    "from sqlalchemy import text"
   ]
  },
  {
   "cell_type": "code",
   "execution_count": 12,
   "id": "d0c52bbf",
   "metadata": {},
   "outputs": [],
   "source": [
    "# Set up a temporary database inside our RAM\n",
    "temp_db = create_engine('sqlite:///:memory:',echo=True)"
   ]
  },
  {
   "cell_type": "code",
   "execution_count": null,
   "id": "d2dfffef",
   "metadata": {
    "scrolled": true
   },
   "outputs": [],
   "source": [
    "# Push Pandas Data Frame --> Temporary Database\n",
    "data = df.to_sql(name='Sales', con=temp_db) # refer to this table as 'sales' and connection to temp_db"
   ]
  },
  {
   "cell_type": "code",
   "execution_count": 21,
   "id": "e7007709",
   "metadata": {},
   "outputs": [
    {
     "name": "stdout",
     "output_type": "stream",
     "text": [
      "2023-05-20 17:13:36,303 INFO sqlalchemy.engine.Engine SELECT SUM(SALES) from Sales\n",
      "2023-05-20 17:13:36,306 INFO sqlalchemy.engine.Engine [generated in 0.00268s] ()\n"
     ]
    }
   ],
   "source": [
    "# SQL query on temporary Database\n",
    "with temp_db.connect() as conn:\n",
    "    # makes the connection\n",
    "    # run code indentation/block\n",
    "    result = conn.execute(text(\"SELECT SUM(SALES) from Sales\"))"
   ]
  },
  {
   "cell_type": "code",
   "execution_count": 22,
   "id": "e1629f2d",
   "metadata": {},
   "outputs": [
    {
     "data": {
      "text/plain": [
       "[(10032628.85000001,)]"
      ]
     },
     "execution_count": 22,
     "metadata": {},
     "output_type": "execute_result"
    }
   ],
   "source": [
    "result.all()"
   ]
  },
  {
   "cell_type": "code",
   "execution_count": null,
   "id": "a0c9c1b3",
   "metadata": {},
   "outputs": [],
   "source": []
  }
 ],
 "metadata": {
  "kernelspec": {
   "display_name": "Python 3 (ipykernel)",
   "language": "python",
   "name": "python3"
  },
  "language_info": {
   "codemirror_mode": {
    "name": "ipython",
    "version": 3
   },
   "file_extension": ".py",
   "mimetype": "text/x-python",
   "name": "python",
   "nbconvert_exporter": "python",
   "pygments_lexer": "ipython3",
   "version": "3.11.4"
  }
 },
 "nbformat": 4,
 "nbformat_minor": 5
}
