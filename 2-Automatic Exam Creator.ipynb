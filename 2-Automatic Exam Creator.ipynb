{
 "cells": [
  {
   "cell_type": "code",
   "execution_count": 1,
   "id": "f00d9fb0",
   "metadata": {},
   "outputs": [],
   "source": [
    "import os\n",
    "import openai"
   ]
  },
  {
   "cell_type": "code",
   "execution_count": 2,
   "id": "986dcee5",
   "metadata": {},
   "outputs": [],
   "source": [
    "# os.environ['OPENAI_API_KEY'] = ''"
   ]
  },
  {
   "cell_type": "code",
   "execution_count": 3,
   "id": "5a5d9c0d",
   "metadata": {},
   "outputs": [],
   "source": [
    "openai.api_key = os.getenv('OPENAI_API_KEY')"
   ]
  },
  {
   "cell_type": "code",
   "execution_count": 27,
   "id": "a22d540d",
   "metadata": {},
   "outputs": [],
   "source": [
    "def create_test_prompt(topic: str, num_questions: int, num_possible_answers: int):\n",
    "    try:\n",
    "        num_questions = int(num_questions)\n",
    "        num_possible_answers = int(num_possible_answers)\n",
    "        if num_questions < 1 or num_possible_answers < 2:\n",
    "            raise Exception(\"The number of questions must be greater or equal to 1 and the number of possble answers must be greater or equal to 2!\")\n",
    "        prompt = f\"Create a multiple choice quiz on the topic of {topic}, consisting of {num_questions} questions. \"\\\n",
    "            +f\"Each question should have {num_possible_answers} options labelled by letters. \"\\\n",
    "            +f\"Please make sure the questions and answers you provide are backed up by credible sources but you do not need to provide them. \"\\\n",
    "            +f\"Also include the correct answer for each question using the starting string 'Correct Answer:'\"\n",
    "            \n",
    "        return prompt\n",
    "    except ValueError:\n",
    "        print(\"Your argument contained non-integer values for num_questions or num_possible answers\")"
   ]
  },
  {
   "cell_type": "code",
   "execution_count": 41,
   "id": "6fed203e",
   "metadata": {},
   "outputs": [],
   "source": [
    "response = openai.Completion.create(engine='text-davinci-003',prompt=create_test_prompt('Java OOP',4,4),max_tokens=256,temperature=0.7)"
   ]
  },
  {
   "cell_type": "code",
   "execution_count": 45,
   "id": "590cd940",
   "metadata": {},
   "outputs": [],
   "source": [
    "def create_student_view(test, num_questions):\n",
    "    student_view = {1:''}\n",
    "    question_number = 1\n",
    "    for line in test.split(\"\\n\"):\n",
    "        if not line.startswith(\"Correct Answer:\"):\n",
    "            student_view[question_number] += line + '\\n'\n",
    "        else:\n",
    "            if question_number < num_questions:\n",
    "                question_number += 1\n",
    "                student_view[question_number] = ''\n",
    "    return student_view"
   ]
  },
  {
   "cell_type": "code",
   "execution_count": 48,
   "id": "74f3ecad",
   "metadata": {},
   "outputs": [],
   "source": [
    "result = create_student_view(response['choices'][0]['text'], 4)"
   ]
  },
  {
   "cell_type": "code",
   "execution_count": 58,
   "id": "7727f498",
   "metadata": {},
   "outputs": [
    {
     "name": "stdout",
     "output_type": "stream",
     "text": [
      "\n",
      "\n",
      "Q1. What is the keyword used for declaring a class in Java?\n",
      "\n",
      "A. method\n",
      "B. variable\n",
      "C. function\n",
      "D. class\n",
      "\n",
      "\n",
      "\n",
      "Q2. What is the default value of a static variable in Java?\n",
      "\n",
      "A. null\n",
      "B. 0\n",
      "C. false\n",
      "D. true\n",
      "\n",
      "\n",
      "\n",
      "Q3. What is the keyword used to create a constructor in Java?\n",
      "\n",
      "A. constructor\n",
      "B. new\n",
      "C. set\n",
      "D. initialize\n",
      "\n",
      "\n",
      "\n",
      "Q4. What is the purpose of the instanceof keyword in Java OOP?\n",
      "\n",
      "A. To access a particular instance of an object\n",
      "B. To determine the type of an object\n",
      "C. To create a new instance of an object\n",
      "D. To assign a certain value to an object\n",
      "\n",
      "\n"
     ]
    }
   ],
   "source": [
    "for key in result:\n",
    "    print(result[key])"
   ]
  },
  {
   "cell_type": "code",
   "execution_count": 57,
   "id": "3756c569",
   "metadata": {},
   "outputs": [],
   "source": [
    "def extract_answers(test, num_questions):\n",
    "    answers = {1:''}\n",
    "    question_number = 1\n",
    "    for line in test.split(\"\\n\"):\n",
    "        if line.startswith(\"Correct Answer:\"):\n",
    "            answers[question_number] += \"Q\" + str(question_number) + \" \"\n",
    "            answers[question_number] += line + '\\n'\n",
    "            if question_number < num_questions:\n",
    "                question_number += 1\n",
    "                answers[question_number] = ''\n",
    "    return answers"
   ]
  },
  {
   "cell_type": "code",
   "execution_count": 59,
   "id": "5768689c",
   "metadata": {},
   "outputs": [],
   "source": [
    "ans = extract_answers(response['choices'][0]['text'], 4)"
   ]
  },
  {
   "cell_type": "code",
   "execution_count": 60,
   "id": "5a21cf8b",
   "metadata": {},
   "outputs": [
    {
     "name": "stdout",
     "output_type": "stream",
     "text": [
      "Q1 Correct Answer: D. class\n",
      "\n",
      "Q2 Correct Answer: B. 0\n",
      "\n",
      "Q3 Correct Answer: A. constructor\n",
      "\n",
      "Q4 Correct Answer: B. To determine the type of an object\n",
      "\n"
     ]
    }
   ],
   "source": [
    "for key in ans:\n",
    "    print(ans[key])"
   ]
  },
  {
   "cell_type": "code",
   "execution_count": 54,
   "id": "1a6f76d8",
   "metadata": {},
   "outputs": [],
   "source": [
    "def take_exam(student_view):\n",
    "    student_answers = {}\n",
    "    for num, question in student_view.items():\n",
    "        print(question)\n",
    "        answer = input(\"Enter your answer in letters: \")\n",
    "        student_answers[num] = answer.upper()\n",
    "    return student_answers"
   ]
  },
  {
   "cell_type": "code",
   "execution_count": null,
   "id": "458bc81f",
   "metadata": {},
   "outputs": [],
   "source": [
    "student_answers = take_exam(create_student_view(response['choices'][0]['text'], 4))"
   ]
  },
  {
   "cell_type": "code",
   "execution_count": 56,
   "id": "2b2f19d9",
   "metadata": {},
   "outputs": [
    {
     "name": "stdout",
     "output_type": "stream",
     "text": [
      "{1: 'D', 2: 'A', 3: 'B', 4: 'B'}\n"
     ]
    }
   ],
   "source": [
    "print(student_answers)"
   ]
  },
  {
   "cell_type": "code",
   "execution_count": 69,
   "id": "0225936e",
   "metadata": {},
   "outputs": [],
   "source": [
    "def mark_exam(student_answers: dict, answer_key: dict):\n",
    "    total_marks = len(answer_key)\n",
    "    student_mark = 0\n",
    "    true_or_false = []\n",
    "    for question,answer in student_answers.items():\n",
    "        if answer == answer_key[question][answer_key[question].index('Correct Answer:')+16]:\n",
    "            student_mark += 1\n",
    "            true_or_false.append(\"Correct\")\n",
    "        else:\n",
    "            true_or_false.append(\"Incorrect\")\n",
    "    grade = 100*(student_mark/total_marks)\n",
    "    if grade < 50:\n",
    "        passed = \"FAIL\"\n",
    "    elif 50 <= grade <= 60:\n",
    "        passed = \"D\"\n",
    "    elif 60 <= grade <= 70:\n",
    "        passed = \"C\"\n",
    "    elif 70 <= grade <= 80:\n",
    "        passed = \"B\"\n",
    "    else:\n",
    "        passed = \"A\"\n",
    "    return f\"You have answered {student_mark} out of {total_marks} questions correctly. \"\\\n",
    "            +f\"Your grade for this test is {passed}, {grade}%. Here are which questions you answered correctly or incorrectly: \"\\\n",
    "            + str(true_or_false)"
   ]
  },
  {
   "cell_type": "code",
   "execution_count": 70,
   "id": "854ab405",
   "metadata": {},
   "outputs": [
    {
     "data": {
      "text/plain": [
       "\"You have answered 2 out of 4 questions correctly.Your grade for this test is D, 50.0%. Here are which questions you answered correctly or incorrectly: ['Correct', 'Incorrect', 'Incorrect', 'Correct']\""
      ]
     },
     "execution_count": 70,
     "metadata": {},
     "output_type": "execute_result"
    }
   ],
   "source": [
    "mark_exam(student_answers, ans)"
   ]
  },
  {
   "cell_type": "code",
   "execution_count": null,
   "id": "84a2ca8d",
   "metadata": {},
   "outputs": [],
   "source": []
  }
 ],
 "metadata": {
  "kernelspec": {
   "display_name": "Python 3 (ipykernel)",
   "language": "python",
   "name": "python3"
  },
  "language_info": {
   "codemirror_mode": {
    "name": "ipython",
    "version": 3
   },
   "file_extension": ".py",
   "mimetype": "text/x-python",
   "name": "python",
   "nbconvert_exporter": "python",
   "pygments_lexer": "ipython3",
   "version": "3.11.4"
  }
 },
 "nbformat": 4,
 "nbformat_minor": 5
}
