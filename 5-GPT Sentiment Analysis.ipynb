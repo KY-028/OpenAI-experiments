{
 "cells": [
  {
   "cell_type": "code",
   "execution_count": 4,
   "id": "f13e9c06",
   "metadata": {},
   "outputs": [],
   "source": [
    "import openai\n",
    "import os\n",
    "import praw"
   ]
  },
  {
   "cell_type": "code",
   "execution_count": 8,
   "id": "bb252ea5",
   "metadata": {},
   "outputs": [],
   "source": [
    "# os.environ['OPENAI_API_KEY'] = ''\n",
    "# os.environ['reddit_id'] = ''\n",
    "# os.environ['reddit_secret'] = ''"
   ]
  },
  {
   "cell_type": "code",
   "execution_count": 6,
   "id": "f5e044ad",
   "metadata": {},
   "outputs": [],
   "source": [
    "openai.api_key = os.getenv('OPENAI_API_KEY')"
   ]
  },
  {
   "cell_type": "code",
   "execution_count": 10,
   "id": "2acfcf40",
   "metadata": {},
   "outputs": [],
   "source": [
    "reddit = praw.Reddit(client_id = os.getenv('reddit_id'), client_secret = os.getenv('reddit_secret'), user_agent ='Sentiment Test')"
   ]
  },
  {
   "cell_type": "code",
   "execution_count": 13,
   "id": "bdede23f",
   "metadata": {},
   "outputs": [],
   "source": [
    "submission_csMajors = reddit.subreddit(\"csMajors\")"
   ]
  },
  {
   "cell_type": "code",
   "execution_count": 14,
   "id": "ac060690",
   "metadata": {},
   "outputs": [
    {
     "data": {
      "text/plain": [
       "'Students of Computer Science!'"
      ]
     },
     "execution_count": 14,
     "metadata": {},
     "output_type": "execute_result"
    }
   ],
   "source": [
    "submission_csMajors.title"
   ]
  },
  {
   "cell_type": "code",
   "execution_count": 15,
   "id": "cfc13b3f",
   "metadata": {},
   "outputs": [
    {
     "data": {
      "text/plain": [
       "1119"
      ]
     },
     "execution_count": 15,
     "metadata": {},
     "output_type": "execute_result"
    }
   ],
   "source": [
    "submission_csMajors.accounts_active"
   ]
  },
  {
   "cell_type": "code",
   "execution_count": 17,
   "id": "3b10ddf7",
   "metadata": {},
   "outputs": [
    {
     "name": "stdout",
     "output_type": "stream",
     "text": [
      "For anything related to Amazon [3]\n",
      "Resume Review/Roast\n",
      "Hardest individual undergrad CS course in the US?\n",
      "thoughts on doing only a minor in CS?\n",
      "What’s something, good or bad, you didn’t expect about this degree?\n"
     ]
    }
   ],
   "source": [
    "for post in submission_csMajors.hot(limit=5):\n",
    "    print(post.title)"
   ]
  },
  {
   "cell_type": "code",
   "execution_count": 19,
   "id": "14fa87f1",
   "metadata": {},
   "outputs": [
    {
     "name": "stdout",
     "output_type": "stream",
     "text": [
      "xx7h7r\n",
      "118a6py\n",
      "Hello everyone, currently a freshman and looking for fall internship with this resume. Really need your feedback and thank you so much! \n",
      "\n",
      "\n",
      "https://imgur.com/a/TJVPRzV\n",
      "Current junior at a canadian university looking for fall internships and not getting any interviews (even for the summer after editing resume to remove incoming internship). im incoming as a swe intern at a big networking company for the summer (i can dm names of prev companies). \n",
      "\n",
      "any feedback is appreciated!\n",
      "\n",
      "[https://imgur.com/a/QD6PNlv](https://imgur.com/a/QD6PNlv)\n",
      "Prepping myself for 2024 New grad roles, please critique me, TIA.\n",
      "\n",
      "here’s a link for easier access\n",
      "\n",
      "[https://imgur.com/a/iLSV2vC](https://imgur.com/a/iLSV2vC)\n",
      "\n",
      "https://preview.redd.it/eff502r9muta1.jpeg?width=1700&format=pjpg&auto=webp&v=enabled&s=b944831b29d8d2ab51d9e0e457ea0d8727dafdc4\n",
      "13u8utd\n",
      "Berkeley has CS 162 and EECS 126\n",
      "all of cmus courses, they open a lot of their courses but I really wish they opened their os and compilers courses. Both are pretty famous\n",
      "The advanced Algo courses of top unis are pretty rough too\n",
      "13u2jbi\n",
      "Minors don’t really mean anything to your employer most of the time. Do CS related projects, try and get SWE internships and practice for interviews. That’s all that’s really needed\n",
      "Has a couple friends major in physics with minor in CS that became software engineers.  Give it a shot.\n",
      " What would your major be?\n",
      "13u2d05\n",
      "I like math\n",
      "I expected it to be harder in terms of understanding it, what is actually hard is the massive time commitment and managing your time well enough to  balance a CS degree with the rest of your classes.\n",
      "i didnt expect so much math. i liked that there was so much math. i didn’t like that there was so much math.\n"
     ]
    }
   ],
   "source": [
    "for post in submission_csMajors.hot(limit=5):\n",
    "    print(post.title)\n",
    "    submission = reddit.submission(post.id) # a link to all the comments\n",
    "    # print top 2 comments per title submission\n",
    "    counter = 0\n",
    "    for comment in submission.comments:\n",
    "        if comment.body == '[deleted]'\n",
    "            pass\n",
    "        print('----------------')\n",
    "        print(comment.body)\n",
    "        counter+= 1\n",
    "        if counter == 3:\n",
    "            break"
   ]
  },
  {
   "cell_type": "code",
   "execution_count": 39,
   "id": "726bcdd6",
   "metadata": {},
   "outputs": [],
   "source": [
    "def get_titles_and_comments(subreddit=\"stocks\",limit=6,num_comments=3,skip_first=2):\n",
    "    subreddit = reddit.subreddit(subreddit)\n",
    "    title_and_comments = {}\n",
    "    for counter,post in enumerate(subreddit.hot(limit=limit)):\n",
    "        if counter < skip_first:\n",
    "            continue\n",
    "        \n",
    "        counter += (1-skip_first) # To have the right key of the dict\n",
    "        print(counter)\n",
    "        title_and_comments[counter] = \"\"\n",
    "        \n",
    "        submission = reddit.submission(post.id)\n",
    "        title = post.title\n",
    "        \n",
    "        title_and_comments[counter] += \"Title: \"+title+\"\\n\\n\"\n",
    "        title_and_comments[counter] += \"Comments: \\n\\n\"\n",
    "        \n",
    "        comment_counter = 1\n",
    "        for comment in submission.comments:\n",
    "            if not comment.body == \"[deleted]\":\n",
    "                title_and_comments[counter] += str(comment_counter) + \". \" + comment.body + \"\\n\"\n",
    "                comment_counter += 1\n",
    "            if comment_counter > num_comments:\n",
    "                break\n",
    "    return title_and_comments"
   ]
  },
  {
   "cell_type": "code",
   "execution_count": 40,
   "id": "e9de8c23",
   "metadata": {},
   "outputs": [
    {
     "name": "stdout",
     "output_type": "stream",
     "text": [
      "1\n",
      "2\n",
      "3\n",
      "4\n"
     ]
    }
   ],
   "source": [
    "title_and_comments = get_titles_and_comments()"
   ]
  },
  {
   "cell_type": "code",
   "execution_count": 41,
   "id": "d8f4f517",
   "metadata": {},
   "outputs": [
    {
     "name": "stdout",
     "output_type": "stream",
     "text": [
      "Title: What are the worst M&A decisions that has destroyed shareholder value and parent companies are still struggling from today?\n",
      "\n",
      "Comments: \n",
      "\n",
      "1. Time Warner buying aol comes to mind\n",
      "2. Aol & time warner, ATT & time warner, Some future fool & time warner.\n",
      "3. Yahoo maybe had the worst acquisitions. There's pages of them:\n",
      "\n",
      "https://en.wikipedia.org/wiki/List_of_mergers_and_acquisitions_by_Yahoo!\n",
      " \n",
      "\n",
      "Title: NVDA did not file a new shelf offering.\n",
      "\n",
      "Comments: \n",
      "\n",
      "1. How dare you speak facts you fork tongue devil\n",
      "2. That’s why i encourage people to listen to quarterly earnings reports. So different than CNBC\n",
      "3. That’s the thing about getting to the top, you just become the biggest target for scrutiny\n",
      " \n",
      "\n",
      "Title: Trading stocks after-hours on Robinhood\n",
      "\n",
      "Comments: \n",
      "\n",
      "1. Wide bid ask spreads applies to every market outside of normal hours, the farther away it is the worse it'll be.\n",
      "\n",
      "If you want to buy stocks afterhours set a limit order and wait.\n",
      "2. You should do everything with a limit order. I do it even during normal business hours\n",
      "3. Use a real broker. That is financial advice.\n",
      " \n",
      "\n",
      "Title: White House and Republicans reach a tentative deal to avoid U.S. default\n",
      "\n",
      "Comments: \n",
      "\n",
      "1. Hi, you're on r/Stocks, please make sure your post is related to stocks or the stockmarket or it will most likely get removed as being off-topic/political; feel free to edit it now and be more specific.\n",
      "\n",
      "**To everyone commenting:**  Please focus on how this affects the stock market or specific stocks or it will be removed as being off-topic/political.\n",
      "\n",
      "If you're interested in just politics, see our wiki on [\"relevant subreddits\"](https://www.reddit.com/r/stocks/wiki/index) and post to those Reddit communities instead without linking back here, thanks!\n",
      "\n",
      "*I am a bot, and this action was performed automatically. Please [contact the moderators of this subreddit](/message/compose/?to=/r/stocks) if you have any questions or concerns.*\n",
      "2. shocking I tell you\n",
      "3. Imagine thinking this would go any other way.\n",
      " \n",
      "\n"
     ]
    }
   ],
   "source": [
    "for tc in title_and_comments:\n",
    "    print(title_and_comments[tc],'\\n')"
   ]
  },
  {
   "cell_type": "code",
   "execution_count": 42,
   "id": "8c545a8c",
   "metadata": {},
   "outputs": [],
   "source": [
    "def create_prompt(title_and_comments):\n",
    "    task = \"Return the stock ticker or company name mentioned in the following title and comments and classify the sentiment around the company as positive, negative, or neutral. If no ticker or company is mentioend write 'No company mentioned'\"\n",
    "    task += \"Respond in the following format: \\nCompany/Ticker: EXAMPLE_COMPANY \\nSentiment: Positive \\n\\n\"\n",
    "    return task + title_and_comments"
   ]
  },
  {
   "cell_type": "code",
   "execution_count": 46,
   "id": "4be5e6b6",
   "metadata": {},
   "outputs": [
    {
     "name": "stdout",
     "output_type": "stream",
     "text": [
      "Return the stock ticker or company name mentioned in the following title and comments and classify the sentiment around the company as positive, negative, or neutral. If no ticker or company is mentioend write 'No company mentioned'Respond in the following format: \n",
      " Company/Ticker: EXAMPLE_COMPANY \n",
      "Sentiment: Positive \n",
      "Title: What are the worst M&A decisions that has destroyed shareholder value and parent companies are still struggling from today?\n",
      "\n",
      "Comments: \n",
      "\n",
      "1. Time Warner buying aol comes to mind\n",
      "2. Aol & time warner, ATT & time warner, Some future fool & time warner.\n",
      "3. Yahoo maybe had the worst acquisitions. There's pages of them:\n",
      "\n",
      "https://en.wikipedia.org/wiki/List_of_mergers_and_acquisitions_by_Yahoo!\n",
      "\n"
     ]
    }
   ],
   "source": [
    "print(create_prompt(title_and_comments[1]))"
   ]
  },
  {
   "cell_type": "code",
   "execution_count": 50,
   "id": "9516c1a2",
   "metadata": {},
   "outputs": [
    {
     "name": "stdout",
     "output_type": "stream",
     "text": [
      "Sentiment Report from OpenAI: \n",
      "\n",
      "Company/Ticker: Time Warner \n",
      "Sentiment: Negative\n",
      "'----------------------'\n",
      "Sentiment Report from OpenAI: \n",
      "\n",
      "Company/Ticker: NVDA \n",
      "Sentiment: Neutral\n",
      "'----------------------'\n",
      "Sentiment Report from OpenAI: \n",
      "\n",
      "Company/Ticker: No company mentioned \n",
      "Sentiment: Neutral\n",
      "'----------------------'\n",
      "Sentiment Report from OpenAI: \n",
      "\n",
      "Company/Ticker: No company mentioned \n",
      "Sentiment: Neutral\n",
      "'----------------------'\n"
     ]
    }
   ],
   "source": [
    "for tc in title_and_comments.values():\n",
    "    prompt = create_prompt(tc)\n",
    "    response = openai.Completion.create(engine='text-davinci-003',prompt=prompt,max_tokens=256,temperature=0,top_p=1.0) # Sentiment analysis is better with 0\n",
    "    print(f\"Sentiment Report from OpenAI: \\n{response['choices'][0]['text']}\\n----------------------\")"
   ]
  },
  {
   "cell_type": "code",
   "execution_count": null,
   "id": "32eefe22",
   "metadata": {},
   "outputs": [],
   "source": []
  }
 ],
 "metadata": {
  "kernelspec": {
   "display_name": "Python 3 (ipykernel)",
   "language": "python",
   "name": "python3"
  },
  "language_info": {
   "codemirror_mode": {
    "name": "ipython",
    "version": 3
   },
   "file_extension": ".py",
   "mimetype": "text/x-python",
   "name": "python",
   "nbconvert_exporter": "python",
   "pygments_lexer": "ipython3",
   "version": "3.11.4"
  }
 },
 "nbformat": 4,
 "nbformat_minor": 5
}
