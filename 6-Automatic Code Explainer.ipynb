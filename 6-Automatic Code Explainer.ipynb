{
 "cells": [
  {
   "cell_type": "code",
   "execution_count": 1,
   "id": "4ecf9878",
   "metadata": {},
   "outputs": [],
   "source": [
    "import openai\n",
    "import os"
   ]
  },
  {
   "cell_type": "code",
   "execution_count": 2,
   "id": "1b68f3f0",
   "metadata": {},
   "outputs": [],
   "source": [
    "# os.environ['OPENAI_API_KEY'] = ''"
   ]
  },
  {
   "cell_type": "code",
   "execution_count": 3,
   "id": "dd18db01",
   "metadata": {},
   "outputs": [],
   "source": [
    "openai.api_key = os.getenv('OPENAI_API_KEY')"
   ]
  },
  {
   "cell_type": "code",
   "execution_count": 10,
   "id": "37747863",
   "metadata": {},
   "outputs": [],
   "source": [
    "def docstring_prompt(code):\n",
    "    return f\"Given the following code please generate a high quality python docstring of this function including :param:, :return:, and other tags if applicable.\\n{code}    \\\"\\\"\\\"\""
   ]
  },
  {
   "cell_type": "code",
   "execution_count": 21,
   "id": "27dbd0e4",
   "metadata": {},
   "outputs": [],
   "source": [
    "def hello(name):\n",
    "    print(f\"Hello, {name}\")"
   ]
  },
  {
   "cell_type": "code",
   "execution_count": 7,
   "id": "b9b48152",
   "metadata": {},
   "outputs": [],
   "source": [
    "import inspect"
   ]
  },
  {
   "cell_type": "code",
   "execution_count": 8,
   "id": "7ae62db5",
   "metadata": {},
   "outputs": [
    {
     "data": {
      "text/plain": [
       "'def hello(name):\\n    print(f\"Hello{name}\")\\n'"
      ]
     },
     "execution_count": 8,
     "metadata": {},
     "output_type": "execute_result"
    }
   ],
   "source": [
    "inspect.getsource(hello)"
   ]
  },
  {
   "cell_type": "code",
   "execution_count": 9,
   "id": "ec653fab",
   "metadata": {},
   "outputs": [
    {
     "name": "stdout",
     "output_type": "stream",
     "text": [
      "Given the following code please generate a high quality python docstring of this function including parameters, returns, or except statements.\n",
      "def hello(name):\n",
      "    print(f\"Hello{name}\")\n",
      "\"\"\"\n"
     ]
    }
   ],
   "source": [
    "print(docstring_prompt(inspect.getsource(hello)))"
   ]
  },
  {
   "cell_type": "code",
   "execution_count": 11,
   "id": "75d71cd4",
   "metadata": {},
   "outputs": [],
   "source": [
    "response = openai.Completion.create(model='text-davinci-003',prompt=docstring_prompt(inspect.getsource(hello)),temperature=0,max_tokens=100,stop=[\"\\\"\\\"\\\"\"])"
   ]
  },
  {
   "cell_type": "code",
   "execution_count": 14,
   "id": "3ff40272",
   "metadata": {},
   "outputs": [
    {
     "name": "stdout",
     "output_type": "stream",
     "text": [
      "\n",
      "    Prints a greeting to the given name.\n",
      "    \n",
      "    Parameters:\n",
      "    name (str): The name of the person to greet.\n",
      "    \n",
      "    Returns:\n",
      "    None\n",
      "    \n"
     ]
    }
   ],
   "source": [
    "print(response['choices'][0]['text'])"
   ]
  },
  {
   "cell_type": "code",
   "execution_count": 22,
   "id": "08534f93",
   "metadata": {},
   "outputs": [],
   "source": [
    "def merge(original_function,docstring):\n",
    "    function_string= inspect.getsource(original_function)\n",
    "    split = function_string.split('\\n')\n",
    "    first_part = split[0]\n",
    "    second_part = split[1:]\n",
    "    return first_part + \"\\n    \\\"\\\"\\\"\" + docstring + \"\\\"\\\"\\\"\\n\" + \"\\n\".join(second_part)"
   ]
  },
  {
   "cell_type": "code",
   "execution_count": 23,
   "id": "9a8617f7",
   "metadata": {},
   "outputs": [
    {
     "name": "stdout",
     "output_type": "stream",
     "text": [
      "def hello(name):\n",
      "    \"\"\"\n",
      "    Prints a greeting to the given name.\n",
      "    \n",
      "    Parameters:\n",
      "    name (str): The name of the person to greet.\n",
      "    \n",
      "    Returns:\n",
      "    None\n",
      "    \"\"\"\n",
      "    print(f\"Hello, {name}\")\n",
      "\n"
     ]
    }
   ],
   "source": [
    "print(merge(hello,response['choices'][0]['text']))"
   ]
  },
  {
   "cell_type": "code",
   "execution_count": 24,
   "id": "85643ab0",
   "metadata": {},
   "outputs": [],
   "source": [
    "import shutil\n",
    "def create_new_blog(title,content,cover_image):\n",
    "    \n",
    "    cover_image = Path(cover_image) # Get the path of the image\n",
    "    \n",
    "    files = len(list(PATH_TO_CONTENT.glob(\"*.html\"))) # Find how many .htmls there are currently\n",
    "    new_title = f\"{files+1}.html\" # Name it #.html\n",
    "    \n",
    "    path_to_new_content = PATH_TO_CONTENT/new_title # Create a new path for the new doc\n",
    "    \n",
    "    shutil.copy(cover_image,PATH_TO_CONTENT)\n",
    "    if not os.path.exists(path_to_new_content):\n",
    "        # Write a new HTML file\n",
    "        with open(path_to_new_content,'w') as f:\n",
    "            f.write('<!DOCTYPE HTML>\\n')\n",
    "            f.write(\"<html>\\n\")\n",
    "            f.write(\"<head>\\n\")\n",
    "            f.write(f\"<title> {title} </title>\\n\")\n",
    "            f.write(\"</head>\\n\")\n",
    "            \n",
    "            f.write(\"<body>\\n\")\n",
    "            f.write(f\"<img src='{cover_image.name}' alt='Cover Image'> <br />\\n\")\n",
    "            f.write(f\"<h1> {title} </h1>\")\n",
    "            # Replace the new lines \\n to break statements <br />\n",
    "            f.write(content.replace(\"\\n\", \"<br />\\n\"))\n",
    "            f.write(\"</body>\\n\")\n",
    "            f.write(\"</html>\\n\")\n",
    "            print(\"Blog created\")\n",
    "            return path_to_new_content\n",
    "    else:\n",
    "        raise FileExistsError(\"File already exists, please check your naming!\")"
   ]
  },
  {
   "cell_type": "code",
   "execution_count": 26,
   "id": "9bfe0111",
   "metadata": {},
   "outputs": [],
   "source": [
    "response_1 = openai.Completion.create(model='text-davinci-003',prompt=docstring_prompt(inspect.getsource(create_new_blog)),temperature=0,max_tokens=150,stop=[\"\\\"\\\"\\\"\"])"
   ]
  },
  {
   "cell_type": "code",
   "execution_count": 27,
   "id": "527c9925",
   "metadata": {},
   "outputs": [
    {
     "name": "stdout",
     "output_type": "stream",
     "text": [
      "def create_new_blog(title,content,cover_image):\n",
      "    \"\"\"\n",
      "    Creates a new blog with the given title, content, and cover image.\n",
      "    \n",
      "    Parameters:\n",
      "    title (str): The title of the blog.\n",
      "    content (str): The content of the blog.\n",
      "    cover_image (str): The path of the cover image.\n",
      "    \n",
      "    Returns:\n",
      "    path_to_new_content (str): The path of the newly created blog.\n",
      "    \n",
      "    Raises:\n",
      "    FileExistsError: If the file already exists.\n",
      "    \"\"\"\n",
      "    \n",
      "    cover_image = Path(cover_image) # Get the path of the image\n",
      "    \n",
      "    files = len(list(PATH_TO_CONTENT.glob(\"*.html\"))) # Find how many .htmls there are currently\n",
      "    new_title = f\"{files+1}.html\" # Name it #.html\n",
      "    \n",
      "    path_to_new_content = PATH_TO_CONTENT/new_title # Create a new path for the new doc\n",
      "    \n",
      "    shutil.copy(cover_image,PATH_TO_CONTENT)\n",
      "    if not os.path.exists(path_to_new_content):\n",
      "        # Write a new HTML file\n",
      "        with open(path_to_new_content,'w') as f:\n",
      "            f.write('<!DOCTYPE HTML>\\n')\n",
      "            f.write(\"<html>\\n\")\n",
      "            f.write(\"<head>\\n\")\n",
      "            f.write(f\"<title> {title} </title>\\n\")\n",
      "            f.write(\"</head>\\n\")\n",
      "            \n",
      "            f.write(\"<body>\\n\")\n",
      "            f.write(f\"<img src='{cover_image.name}' alt='Cover Image'> <br />\\n\")\n",
      "            f.write(f\"<h1> {title} </h1>\")\n",
      "            # Replace the new lines \\n to break statements <br />\n",
      "            f.write(content.replace(\"\\n\", \"<br />\\n\"))\n",
      "            f.write(\"</body>\\n\")\n",
      "            f.write(\"</html>\\n\")\n",
      "            print(\"Blog created\")\n",
      "            return path_to_new_content\n",
      "    else:\n",
      "        raise FileExistsError(\"File already exists, please check your naming!\")\n",
      "\n"
     ]
    }
   ],
   "source": [
    "print(merge(create_new_blog,response_1['choices'][0]['text']))"
   ]
  },
  {
   "cell_type": "code",
   "execution_count": null,
   "id": "1f1c41d5",
   "metadata": {},
   "outputs": [],
   "source": []
  }
 ],
 "metadata": {
  "kernelspec": {
   "display_name": "Python 3 (ipykernel)",
   "language": "python",
   "name": "python3"
  },
  "language_info": {
   "codemirror_mode": {
    "name": "ipython",
    "version": 3
   },
   "file_extension": ".py",
   "mimetype": "text/x-python",
   "name": "python",
   "nbconvert_exporter": "python",
   "pygments_lexer": "ipython3",
   "version": "3.11.4"
  }
 },
 "nbformat": 4,
 "nbformat_minor": 5
}
